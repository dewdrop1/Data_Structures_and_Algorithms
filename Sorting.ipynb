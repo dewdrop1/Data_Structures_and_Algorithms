{
  "nbformat": 4,
  "nbformat_minor": 0,
  "metadata": {
    "colab": {
      "provenance": []
    },
    "kernelspec": {
      "name": "python3",
      "display_name": "Python 3"
    },
    "language_info": {
      "name": "python"
    }
  },
  "cells": [
    {
      "cell_type": "markdown",
      "source": [
        "# Sorting Algorithms"
      ],
      "metadata": {
        "id": "mV2p0q6lQ4bD"
      }
    },
    {
      "cell_type": "markdown",
      "source": [
        "##Tests"
      ],
      "metadata": {
        "id": "eCLZ4dEORCOh"
      }
    },
    {
      "cell_type": "code",
      "source": [
        "import random\n",
        "\n",
        "def test_1(fn):\n",
        "  random.seed(12345)\n",
        "  test_1 = random.sample(range(-100, 100), 10)\n",
        "  result = [-98, -59, -51, -31, -24, -6, 6, 11, 44, 87]\n",
        "  got = fn(test_1)\n",
        "  fail_str = \"test 1: \" + \" expected \" + str(result) + \"\\nbut got \" + str(got)\n",
        "  assert got == result, fail_str\n",
        "  print(\"test_1: pass\")\n",
        "\n",
        "def test_2(fn):\n",
        "  # Duplicate numbers\n",
        "  test_2 = [-1,-23, -44, 0, 56, 74, 0, -23, 100, 200, 250, 225, -74 , -44]\n",
        "  result = [-74, -44, -44, -23, -23, -1, 0, 0, 56, 74, 100, 200, 225, 250]\n",
        "  got = fn(test_2)\n",
        "  fail_str = \"test 2:\" + \" expected \" + str(result) + \"\\nbut got \" + str(got)\n",
        "  assert got == result, fail_str\n",
        "  print(\"test_2: pass\")\n",
        "\n",
        "def test_3(fn):\n",
        "  # Ascending order\n",
        "  test_3 = [1,2,3,4,5,6,7,8,9,10]\n",
        "  result = test_3\n",
        "  got = fn(test_3)\n",
        "  fail_str = \"test 3:\" + \" expected \" + str(result) + \"\\nbut got \" + str(got)\n",
        "  assert got == result, fail_str\n",
        "  print(\"test_3: pass\")\n",
        "\n",
        "def test_4(fn):\n",
        "  # Descending order\n",
        "  test_4 = [1,2,3,4,5,6,7,8,9,10]\n",
        "  test_4.reverse()\n",
        "  result = test_4[:]\n",
        "  result.reverse()\n",
        "  got = fn(test_4)\n",
        "  fail_str = \"test 4:\" + \" expected \" + str(result) + \"\\nbut got \" + str(got)\n",
        "  assert got == result, fail_str\n",
        "  print(\"test_4: pass\")"
      ],
      "metadata": {
        "id": "VLIF1TNqRD5r"
      },
      "execution_count": 208,
      "outputs": []
    },
    {
      "cell_type": "markdown",
      "source": [
        "##Brute-Force Sorting Algorithms"
      ],
      "metadata": {
        "id": "n-jqqdSrQ6rL"
      }
    },
    {
      "cell_type": "markdown",
      "source": [
        "### Selection Sort"
      ],
      "metadata": {
        "id": "F2t0erpDQ94P"
      }
    },
    {
      "cell_type": "markdown",
      "source": [
        "Time Complexity of selection sort is O(n^2)"
      ],
      "metadata": {
        "id": "8dbgNFFHeyji"
      }
    },
    {
      "cell_type": "code",
      "source": [
        "def selection_sort(alist):\n",
        "  for i in range(len(alist)):\n",
        "    min = i\n",
        "    for j in range(i+1,len(alist)):\n",
        "      if alist[j] < alist[min]:\n",
        "        min = j\n",
        "    if min != i:\n",
        "      temp = alist[min]\n",
        "      alist[min] = alist[i]\n",
        "      alist[i] = temp\n",
        "  return alist"
      ],
      "metadata": {
        "id": "36yG0PqBQ_tE"
      },
      "execution_count": 118,
      "outputs": []
    },
    {
      "cell_type": "code",
      "source": [
        "test_1(selection_sort)\n",
        "test_2(selection_sort)\n",
        "test_3(selection_sort)\n",
        "test_4(selection_sort)"
      ],
      "metadata": {
        "colab": {
          "base_uri": "https://localhost:8080/"
        },
        "id": "4ae6xXT1TKbH",
        "outputId": "9b7d5de4-f940-46bf-ed6d-3cbdaaf0841b"
      },
      "execution_count": 121,
      "outputs": [
        {
          "output_type": "stream",
          "name": "stdout",
          "text": [
            "test_1: pass\n",
            "test_2: pass\n",
            "test_3: pass\n",
            "test_4: pass\n"
          ]
        }
      ]
    },
    {
      "cell_type": "markdown",
      "source": [
        "###Bubble Sort"
      ],
      "metadata": {
        "id": "N9Ex182efcDq"
      }
    },
    {
      "cell_type": "markdown",
      "source": [
        "Time Complexity of bubble sort is O(n^2)"
      ],
      "metadata": {
        "id": "9-KE6VHjBBJG"
      }
    },
    {
      "cell_type": "code",
      "source": [
        "def bubble_sort(alist):\n",
        "  for i in range(len(alist)):\n",
        "    for j in (range(len(alist)-1, i, -1)):\n",
        "      if alist[j] < alist[j-1]:\n",
        "        temp = alist[j-1]\n",
        "        alist[j-1] = alist[j]\n",
        "        alist[j] = temp\n",
        "  return alist"
      ],
      "metadata": {
        "id": "TDORiEEbfgsp"
      },
      "execution_count": 142,
      "outputs": []
    },
    {
      "cell_type": "code",
      "source": [
        "test_1(bubble_sort)\n",
        "test_2(bubble_sort)\n",
        "test_3(bubble_sort)\n",
        "test_4(bubble_sort)"
      ],
      "metadata": {
        "colab": {
          "base_uri": "https://localhost:8080/"
        },
        "id": "ks3HgUs2f7u-",
        "outputId": "d4953a59-e6e4-4a5d-af2a-bb11c6963a5b"
      },
      "execution_count": 143,
      "outputs": [
        {
          "output_type": "stream",
          "name": "stdout",
          "text": [
            "test_1: pass\n",
            "test_2: pass\n",
            "test_3: pass\n",
            "test_4: pass\n"
          ]
        }
      ]
    },
    {
      "cell_type": "markdown",
      "source": [
        "###Insertion Sort"
      ],
      "metadata": {
        "id": "7qMuse6pgpON"
      }
    },
    {
      "cell_type": "markdown",
      "source": [
        "Time Complexity of insertion sort is O(n^2)"
      ],
      "metadata": {
        "id": "y597E0dEBHqa"
      }
    },
    {
      "cell_type": "code",
      "source": [
        "def insertion_sort(alist):\n",
        "  for i in range(len(alist)):\n",
        "    temp = alist[i]\n",
        "    j = i-1\n",
        "    while j >= 0 and alist[j] > temp:\n",
        "      alist[j+1] = alist[j]\n",
        "      j -= 1\n",
        "    alist[j+1] = temp\n",
        "  return alist"
      ],
      "metadata": {
        "id": "_BZoIqeQkczS"
      },
      "execution_count": 205,
      "outputs": []
    },
    {
      "cell_type": "code",
      "source": [
        "test_1(insertion_sort)\n",
        "test_2(insertion_sort)\n",
        "test_3(insertion_sort)\n",
        "test_4(insertion_sort)"
      ],
      "metadata": {
        "colab": {
          "base_uri": "https://localhost:8080/"
        },
        "id": "51XjYtKXkhzN",
        "outputId": "3dd1a3bf-1788-443a-cc31-b41a653242ec"
      },
      "execution_count": 209,
      "outputs": [
        {
          "output_type": "stream",
          "name": "stdout",
          "text": [
            "test_1: pass\n",
            "test_2: pass\n",
            "test_3: pass\n",
            "test_4: pass\n"
          ]
        }
      ]
    },
    {
      "cell_type": "markdown",
      "source": [
        "###Merge Sort"
      ],
      "metadata": {
        "id": "OnaD9bgYBKy2"
      }
    },
    {
      "cell_type": "markdown",
      "source": [
        "Time Complexity of merge sort is O(nlogn)"
      ],
      "metadata": {
        "id": "FvKi5a2CC3zG"
      }
    },
    {
      "cell_type": "code",
      "source": [
        "def merge(lista, listb):\n",
        "  x = 0\n",
        "  y = 0\n",
        "  merged = []\n",
        "  for i in range(len(lista+listb)):\n",
        "    if x == len(lista):\n",
        "      merged += listb[y:]\n",
        "      return merged\n",
        "    elif y == len(listb):\n",
        "      merged += lista[x:]\n",
        "      return merged\n",
        "    elif lista[x] <= listb[y]:\n",
        "      merged += [lista[x]]\n",
        "      x += 1\n",
        "    else:\n",
        "      merged += [listb[y]]\n",
        "      y += 1\n",
        "  return merged\n",
        "\n",
        "def merge_sort(alist):\n",
        "\n",
        "  if len(alist) == 0 or len(alist) == 1:\n",
        "    return alist\n",
        "\n",
        "  mid = len(alist)//2\n",
        "  first = alist[:mid]\n",
        "  second = alist[mid:]\n",
        "\n",
        "  return merge(merge_sort(first), merge_sort(second))"
      ],
      "metadata": {
        "id": "0uYWIyLHBMjm"
      },
      "execution_count": 215,
      "outputs": []
    },
    {
      "cell_type": "code",
      "source": [
        "test_1(insertion_sort)\n",
        "test_2(insertion_sort)\n",
        "test_3(insertion_sort)\n",
        "test_4(insertion_sort)"
      ],
      "metadata": {
        "colab": {
          "base_uri": "https://localhost:8080/"
        },
        "id": "VyU0aCUUCcEg",
        "outputId": "285c3951-c841-4c20-a2fa-83048db215ca"
      },
      "execution_count": 213,
      "outputs": [
        {
          "output_type": "stream",
          "name": "stdout",
          "text": [
            "test_1: pass\n",
            "test_2: pass\n",
            "test_3: pass\n",
            "test_4: pass\n"
          ]
        }
      ]
    }
  ]
}