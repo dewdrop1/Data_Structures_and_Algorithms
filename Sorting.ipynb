{
  "nbformat": 4,
  "nbformat_minor": 0,
  "metadata": {
    "colab": {
      "provenance": []
    },
    "kernelspec": {
      "name": "python3",
      "display_name": "Python 3"
    },
    "language_info": {
      "name": "python"
    }
  },
  "cells": [
    {
      "cell_type": "markdown",
      "source": [
        "# Sorting Algorithms"
      ],
      "metadata": {
        "id": "mV2p0q6lQ4bD"
      }
    },
    {
      "cell_type": "markdown",
      "source": [
        "##Tests"
      ],
      "metadata": {
        "id": "eCLZ4dEORCOh"
      }
    },
    {
      "cell_type": "code",
      "source": [
        "import random\n",
        "\n",
        "def test_1(fn):\n",
        "  random.seed(12345)\n",
        "  test_1 = random.sample(range(-100, 100), 10)\n",
        "  result = [-98, -59, -51, -31, -24, -6, 6, 11, 44, 87]\n",
        "  got = fn(test_1)\n",
        "  fail_str = \"epected \" + str(result) + \"\\nbut got \" + str(got)\n",
        "  assert got == result, fail_str\n",
        "\n",
        "def test_2(fn):\n",
        "  # Duplicate numbers\n",
        "  test_2 = [-1,-23, -44, 0, 56, 74, 0, -23, 100, 200, 250, 225, -74 , -44]\n",
        "  result = [-74, -44, -44, -23, -23, -1, 0, 0, 56, 74, 100, 200, 225, 250]\n",
        "  got = fn(test_2)\n",
        "  fail_str = \"epected \" + str(result) + \"\\nbut got \" + str(got)\n",
        "  assert got == result, fail_str\n",
        "\n",
        "def test_3(fn):\n",
        "  # Ascending order\n",
        "  test_3 = [1,2,3,4,5,6,7,8,9,10]\n",
        "  result = test_3\n",
        "  got = fn(test_3)\n",
        "  fail_str = \"epected \" + str(result) + \"\\nbut got \" + str(got)\n",
        "  assert got == result, fail_str\n",
        "\n",
        "def test_4(fn):\n",
        "  # Descending order\n",
        "  test_4 = [1,2,3,4,5,6,7,8,9,10]\n",
        "  test_4.reverse()\n",
        "  result = test_4[:]\n",
        "  result.reverse()\n",
        "  got = fn(test_4)\n",
        "  fail_str = \"epected \" + str(result) + \"\\nbut got \" + str(got)\n",
        "  assert got == result, fail_str"
      ],
      "metadata": {
        "id": "VLIF1TNqRD5r"
      },
      "execution_count": 112,
      "outputs": []
    },
    {
      "cell_type": "code",
      "source": [
        "test_4 = [1,2,3,4,5,6,7,8,9,10]\n",
        "test_4.reverse()\n",
        "test_4"
      ],
      "metadata": {
        "colab": {
          "base_uri": "https://localhost:8080/"
        },
        "id": "qaY88E5vcg4s",
        "outputId": "4c06c489-8fd6-45d9-b173-f1221cf453e2"
      },
      "execution_count": 92,
      "outputs": [
        {
          "output_type": "execute_result",
          "data": {
            "text/plain": [
              "[10, 9, 8, 7, 6, 5, 4, 3, 2, 1]"
            ]
          },
          "metadata": {},
          "execution_count": 92
        }
      ]
    },
    {
      "cell_type": "markdown",
      "source": [
        "##Brute-Force Sorting Algorithms"
      ],
      "metadata": {
        "id": "n-jqqdSrQ6rL"
      }
    },
    {
      "cell_type": "markdown",
      "source": [
        "### Selection Sort"
      ],
      "metadata": {
        "id": "F2t0erpDQ94P"
      }
    },
    {
      "cell_type": "markdown",
      "source": [
        "Time Complexity of selection sort is O(n^2)"
      ],
      "metadata": {
        "id": "8dbgNFFHeyji"
      }
    },
    {
      "cell_type": "code",
      "source": [
        "def selection_sort(alist):\n",
        "  for i in range(len(alist)):\n",
        "    min = i\n",
        "    for j in range(i+1,len(alist)):\n",
        "      if alist[j] < alist[min]:\n",
        "        min = j\n",
        "    if min != i:\n",
        "      temp = alist[min]\n",
        "      alist[min] = alist[i]\n",
        "      alist[i] = temp\n",
        "  return alist"
      ],
      "metadata": {
        "id": "36yG0PqBQ_tE"
      },
      "execution_count": 77,
      "outputs": []
    },
    {
      "cell_type": "code",
      "source": [
        "test_1(selection_sort)"
      ],
      "metadata": {
        "id": "4ae6xXT1TKbH"
      },
      "execution_count": 78,
      "outputs": []
    },
    {
      "cell_type": "code",
      "source": [
        "test_2(selection_sort)"
      ],
      "metadata": {
        "id": "wlkxXdp6VO0V"
      },
      "execution_count": 79,
      "outputs": []
    },
    {
      "cell_type": "code",
      "source": [
        "test_3(selection_sort)"
      ],
      "metadata": {
        "id": "J5R8YmZMcMjS"
      },
      "execution_count": 82,
      "outputs": []
    },
    {
      "cell_type": "code",
      "source": [
        "test_4(selection_sort)"
      ],
      "metadata": {
        "id": "62twT7jtcZCR"
      },
      "execution_count": 113,
      "outputs": []
    }
  ]
}