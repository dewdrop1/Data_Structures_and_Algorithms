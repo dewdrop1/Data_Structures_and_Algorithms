{
  "nbformat": 4,
  "nbformat_minor": 0,
  "metadata": {
    "colab": {
      "provenance": []
    },
    "kernelspec": {
      "name": "python3",
      "display_name": "Python 3"
    },
    "language_info": {
      "name": "python"
    }
  },
  "cells": [
    {
      "cell_type": "markdown",
      "source": [
        "# Singly Linked List\n",
        "\n",
        "The linked list is a linear data structure similar to the array."
      ],
      "metadata": {
        "id": "XIvqnPr65kn7"
      }
    },
    {
      "cell_type": "code",
      "source": [
        "class Node:\n",
        "  \"\"\" Representation of a single node.\n",
        "      Contains a field to store the value\n",
        "      and a reference to the next node/object.\n",
        "  \"\"\"\n",
        "  def __init__(self, value):\n",
        "    self.value = value\n",
        "    self.next = None\n",
        "\n",
        "class LinkedList:\n",
        "  \"\"\" Representation of a linked list of objects.\n",
        "      Adding a node to the linked list is a prepend operation,\n",
        "      that is, the node gets added to the head of the list.\n",
        "      The tail nodes's next reference points to None signifying\n",
        "      the end of the linked list.\n",
        "  \"\"\"\n",
        "  def __init__(self):\n",
        "    self.head = None\n",
        "\n",
        "  def add_node(self, value):\n",
        "    \"\"\" Add node at the beginning\n",
        "        of the linked list.\n",
        "        Complexity: O(1) \"\"\"\n",
        "    new_node = Node(value)\n",
        "    new_node.next = self.head\n",
        "    self.head = new_node\n",
        "\n",
        "  def delete_node(self, value):\n",
        "    \"\"\" Delete the first node with\n",
        "        the value\n",
        "        Complexity: O(n) \"\"\"\n",
        "    node = self.head\n",
        "    if node == None:\n",
        "      # Nothing to do\n",
        "      return \"List was empty, nothing deleted\"\n",
        "\n",
        "    prev_node = None\n",
        "    while(node.value != value):\n",
        "      prev_node = node\n",
        "      node = node.next\n",
        "      if node == None:\n",
        "        return \"No node with value \" + str(value) + \" found\"\n",
        "\n",
        "    if prev_node == None:\n",
        "      # First node to be deleted\n",
        "      if node.next:\n",
        "        self.head = node.next\n",
        "      else:\n",
        "        # There're no other elements\n",
        "        # in the list\n",
        "        self.head = None\n",
        "    else:\n",
        "      prev_node.next = node.next\n",
        "      del node\n",
        "\n",
        "  def traverse(self):\n",
        "    \"\"\" Traverse the list to return a list of\n",
        "        tuples with each tuple containing each node's\n",
        "        address and the value stored.\n",
        "        Complexity: O(n) \"\"\"\n",
        "    res = []\n",
        "    node = self.head\n",
        "    while (node != None):\n",
        "      res.append((node, node.value))\n",
        "      node = node.next\n",
        "    return res"
      ],
      "metadata": {
        "id": "lrYVArFh5og8"
      },
      "execution_count": 97,
      "outputs": []
    },
    {
      "cell_type": "markdown",
      "source": [
        "# Unit Tests"
      ],
      "metadata": {
        "id": "gKs6igr4s5Rp"
      }
    },
    {
      "cell_type": "code",
      "source": [
        "mylist = LinkedList()"
      ],
      "metadata": {
        "id": "FI3mAV6q5-kK"
      },
      "execution_count": 68,
      "outputs": []
    },
    {
      "cell_type": "code",
      "source": [
        "# Add 10 nodes\n",
        "for i in range(1,11):\n",
        "  mylist.add_node(i)"
      ],
      "metadata": {
        "id": "-gRQjq62jywc"
      },
      "execution_count": 69,
      "outputs": []
    },
    {
      "cell_type": "code",
      "source": [
        "mylist.traverse()"
      ],
      "metadata": {
        "colab": {
          "base_uri": "https://localhost:8080/"
        },
        "id": "gzHRxYusulSH",
        "outputId": "c1d9ff8f-7064-43b5-c318-dc8b5e1336de"
      },
      "execution_count": 70,
      "outputs": [
        {
          "output_type": "execute_result",
          "data": {
            "text/plain": [
              "[(<__main__.Node at 0x7d0d15f22320>, 10),\n",
              " (<__main__.Node at 0x7d0d15f20580>, 9),\n",
              " (<__main__.Node at 0x7d0d15f20310>, 8),\n",
              " (<__main__.Node at 0x7d0d15f22440>, 7),\n",
              " (<__main__.Node at 0x7d0d15f22980>, 6),\n",
              " (<__main__.Node at 0x7d0d15f21360>, 5),\n",
              " (<__main__.Node at 0x7d0d15f21f30>, 4),\n",
              " (<__main__.Node at 0x7d0d15f232b0>, 3),\n",
              " (<__main__.Node at 0x7d0d15f23670>, 2),\n",
              " (<__main__.Node at 0x7d0d15f21d50>, 1)]"
            ]
          },
          "metadata": {},
          "execution_count": 70
        }
      ]
    },
    {
      "cell_type": "code",
      "source": [
        "# Test\n",
        "\n",
        "# List has 10 elements with the values 10 to 1\n",
        "# in descending order. Note the last element is\n",
        "# added at the head.\n",
        "\n",
        "values = [val for (addr, val) in mylist.traverse()]\n",
        "assert values == [i for i in range(10, 0, -1)]"
      ],
      "metadata": {
        "id": "gxMh4b7Bl459"
      },
      "execution_count": 71,
      "outputs": []
    },
    {
      "cell_type": "code",
      "source": [
        "# Delete the node with value 8\n",
        "delete_val = 8\n",
        "mylist.delete_node(delete_val)"
      ],
      "metadata": {
        "id": "thEqMU2IuOcJ"
      },
      "execution_count": 72,
      "outputs": []
    },
    {
      "cell_type": "code",
      "source": [
        "mylist.traverse()"
      ],
      "metadata": {
        "colab": {
          "base_uri": "https://localhost:8080/"
        },
        "id": "Zx59RDGKuYhf",
        "outputId": "2ffbb39a-111f-43a2-8c97-53df67a6c934"
      },
      "execution_count": 73,
      "outputs": [
        {
          "output_type": "execute_result",
          "data": {
            "text/plain": [
              "[(<__main__.Node at 0x7d0d15f22320>, 10),\n",
              " (<__main__.Node at 0x7d0d15f20580>, 9),\n",
              " (<__main__.Node at 0x7d0d15f22440>, 7),\n",
              " (<__main__.Node at 0x7d0d15f22980>, 6),\n",
              " (<__main__.Node at 0x7d0d15f21360>, 5),\n",
              " (<__main__.Node at 0x7d0d15f21f30>, 4),\n",
              " (<__main__.Node at 0x7d0d15f232b0>, 3),\n",
              " (<__main__.Node at 0x7d0d15f23670>, 2),\n",
              " (<__main__.Node at 0x7d0d15f21d50>, 1)]"
            ]
          },
          "metadata": {},
          "execution_count": 73
        }
      ]
    },
    {
      "cell_type": "code",
      "source": [
        "# Test\n",
        "\n",
        "# Node with value 8 has been removed.\n",
        "\n",
        "values = [val for (addr, val) in mylist.traverse()]\n",
        "expected = [i for i in range(10, 0, -1)]\n",
        "expected.pop(expected.index(delete_val))\n",
        "assert values == expected"
      ],
      "metadata": {
        "id": "Jz21s9glufrK"
      },
      "execution_count": 74,
      "outputs": []
    },
    {
      "cell_type": "markdown",
      "source": [
        "##Edge Cases\n",
        "\n"
      ],
      "metadata": {
        "id": "-FAMwUKVvwE6"
      }
    },
    {
      "cell_type": "markdown",
      "source": [
        "###List with no elements"
      ],
      "metadata": {
        "id": "HTqu-MpxwUE8"
      }
    },
    {
      "cell_type": "code",
      "source": [
        "no_elem_list = LinkedList()"
      ],
      "metadata": {
        "id": "RE_B5NYXvtTP"
      },
      "execution_count": 56,
      "outputs": []
    },
    {
      "cell_type": "code",
      "source": [
        "no_elem_list.delete_node(5)"
      ],
      "metadata": {
        "colab": {
          "base_uri": "https://localhost:8080/",
          "height": 36
        },
        "id": "TinFMS3Pv6mb",
        "outputId": "4ee78e3b-63c5-423b-de64-e77c29d01fe2"
      },
      "execution_count": 57,
      "outputs": [
        {
          "output_type": "execute_result",
          "data": {
            "text/plain": [
              "'List was empty, nothing deleted'"
            ],
            "application/vnd.google.colaboratory.intrinsic+json": {
              "type": "string"
            }
          },
          "metadata": {},
          "execution_count": 57
        }
      ]
    },
    {
      "cell_type": "markdown",
      "source": [
        "###List with only one element"
      ],
      "metadata": {
        "id": "wTvLDKopwJQM"
      }
    },
    {
      "cell_type": "code",
      "source": [
        "one_elem_list = LinkedList()"
      ],
      "metadata": {
        "id": "e4n5TgyWwZex"
      },
      "execution_count": 58,
      "outputs": []
    },
    {
      "cell_type": "code",
      "source": [
        "one_elem_list.add_node(24)"
      ],
      "metadata": {
        "id": "F5O0OsgawdDf"
      },
      "execution_count": 59,
      "outputs": []
    },
    {
      "cell_type": "code",
      "source": [
        "one_elem_list.delete_node(24)"
      ],
      "metadata": {
        "id": "Zzy2nSP9wgMr"
      },
      "execution_count": 60,
      "outputs": []
    },
    {
      "cell_type": "code",
      "source": [
        "# Test\n",
        "\n",
        "# Delete the only node in the list\n",
        "\n",
        "assert one_elem_list.traverse() == []"
      ],
      "metadata": {
        "id": "wrrIo1YvwmJ8"
      },
      "execution_count": 75,
      "outputs": []
    },
    {
      "cell_type": "markdown",
      "source": [
        "###List with no given value"
      ],
      "metadata": {
        "id": "Ir-rGq6C30MQ"
      }
    },
    {
      "cell_type": "code",
      "source": [
        "# Test\n",
        "\n",
        "# Test deletion when the node with given value\n",
        "# does not exist. The operation should result\n",
        "# in no change to the list.\n",
        "\n",
        "one_elem_list = LinkedList()\n",
        "one_elem_list.add_node(10)\n",
        "one_elem_list.delete_node(5)"
      ],
      "metadata": {
        "colab": {
          "base_uri": "https://localhost:8080/",
          "height": 36
        },
        "id": "RZ4KeIYJyPAt",
        "outputId": "1ac7e8ce-55ad-4997-c99e-f4d57e3e06f0"
      },
      "execution_count": 100,
      "outputs": [
        {
          "output_type": "execute_result",
          "data": {
            "text/plain": [
              "'No node with value 5 found'"
            ],
            "application/vnd.google.colaboratory.intrinsic+json": {
              "type": "string"
            }
          },
          "metadata": {},
          "execution_count": 100
        }
      ]
    },
    {
      "cell_type": "code",
      "source": [
        "# Test\n",
        "\n",
        "# Test deletion when the node with given value\n",
        "# does not exist. The operation should result\n",
        "# in no change to the list.\n",
        "\n",
        "one_elem_list = LinkedList()\n",
        "one_elem_list.add_node(10)\n",
        "one_elem_list.add_node(11)\n",
        "one_elem_list.delete_node(5)"
      ],
      "metadata": {
        "colab": {
          "base_uri": "https://localhost:8080/",
          "height": 36
        },
        "id": "mKDTEFze2vxH",
        "outputId": "d993a630-768a-4853-e06a-667eab53ef14"
      },
      "execution_count": 102,
      "outputs": [
        {
          "output_type": "execute_result",
          "data": {
            "text/plain": [
              "'No node with value 5 found'"
            ],
            "application/vnd.google.colaboratory.intrinsic+json": {
              "type": "string"
            }
          },
          "metadata": {},
          "execution_count": 102
        }
      ]
    }
  ]
}